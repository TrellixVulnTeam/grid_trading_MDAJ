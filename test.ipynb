{
 "cells": [
  {
   "cell_type": "code",
   "execution_count": 277,
   "source": [
    "import requests\n",
    "import defs\n",
    "import pandas as pd\n",
    "import json\n",
    "import numpy as np\n",
    "import datetime"
   ],
   "outputs": [],
   "metadata": {}
  },
  {
   "cell_type": "code",
   "execution_count": 278,
   "source": [
    "session = requests.Session()\n",
    "print(datetime.datetime.utcnow() + datetime.timedelta(hours=+8))"
   ],
   "outputs": [
    {
     "output_type": "stream",
     "name": "stdout",
     "text": [
      "2021-09-04 12:51:18.885222\n"
     ]
    }
   ],
   "metadata": {}
  },
  {
   "cell_type": "code",
   "execution_count": 175,
   "source": [
    "post_url = f\"{defs.OANDA_URL}/accounts/{defs.ACCOUNT_ID}/orders\"\n",
    "data = {\n",
    "        \"order\": {\n",
    "            \"units\": 1000,\n",
    "            \"instrument\": \"EUR/USD\",\n",
    "            \"timeInForce\": \"FOK\",\n",
    "            \"type\": \"MARKET\",\n",
    "            \"positionFill\": \"DEFAULT\"\n",
    "            }\n",
    "        }\n",
    "\n",
    "order_list = []"
   ],
   "outputs": [],
   "metadata": {}
  },
  {
   "cell_type": "code",
   "execution_count": 176,
   "source": [
    "\n",
    "post_response = session.post(post_url,headers=defs.SECURE_HEADER,data=json.dumps(data))\n",
    "status_code = post_response.status_code\n",
    "status_code"
   ],
   "outputs": [
    {
     "output_type": "execute_result",
     "data": {
      "text/plain": [
       "201"
      ]
     },
     "metadata": {},
     "execution_count": 176
    }
   ],
   "metadata": {}
  },
  {
   "cell_type": "code",
   "execution_count": 177,
   "source": [
    "# status_code\n",
    "post_response.json()\n",
    "# order_list.append(post_response.json()['orderCreateTransaction']['id'])\n",
    "# post_response.json()\n",
    "# order_list = list(dict.fromkeys(order_list))\n",
    "# order_list"
   ],
   "outputs": [
    {
     "output_type": "execute_result",
     "data": {
      "text/plain": [
       "{'orderCreateTransaction': {'id': '2244',\n",
       "  'accountID': '101-003-20224752-002',\n",
       "  'userID': 20224752,\n",
       "  'batchID': '2244',\n",
       "  'requestID': '60881959235955084',\n",
       "  'time': '2021-09-01T09:25:25.165226469Z',\n",
       "  'type': 'MARKET_ORDER',\n",
       "  'instrument': 'EUR_USD',\n",
       "  'units': '1000',\n",
       "  'timeInForce': 'FOK',\n",
       "  'positionFill': 'DEFAULT',\n",
       "  'reason': 'CLIENT_ORDER'},\n",
       " 'orderFillTransaction': {'id': '2245',\n",
       "  'accountID': '101-003-20224752-002',\n",
       "  'userID': 20224752,\n",
       "  'batchID': '2244',\n",
       "  'requestID': '60881959235955084',\n",
       "  'time': '2021-09-01T09:25:25.165226469Z',\n",
       "  'type': 'ORDER_FILL',\n",
       "  'orderID': '2244',\n",
       "  'instrument': 'EUR_USD',\n",
       "  'units': '1000',\n",
       "  'requestedUnits': '1000',\n",
       "  'price': '1.18148',\n",
       "  'pl': '0.0000',\n",
       "  'quotePL': '0',\n",
       "  'financing': '0.0000',\n",
       "  'baseFinancing': '0',\n",
       "  'commission': '0.0000',\n",
       "  'accountBalance': '98959.6413',\n",
       "  'gainQuoteHomeConversionFactor': '1.34024510',\n",
       "  'lossQuoteHomeConversionFactor': '1.35371490',\n",
       "  'guaranteedExecutionFee': '0.0000',\n",
       "  'quoteGuaranteedExecutionFee': '0',\n",
       "  'halfSpreadCost': '0.0539',\n",
       "  'fullVWAP': '1.18148',\n",
       "  'reason': 'MARKET_ORDER',\n",
       "  'tradeOpened': {'price': '1.18148',\n",
       "   'tradeID': '2245',\n",
       "   'units': '1000',\n",
       "   'guaranteedExecutionFee': '0.0000',\n",
       "   'quoteGuaranteedExecutionFee': '0',\n",
       "   'halfSpreadCost': '0.0539',\n",
       "   'initialMarginRequired': '79.5670'},\n",
       "  'fullPrice': {'closeoutBid': '1.18136',\n",
       "   'closeoutAsk': '1.18152',\n",
       "   'timestamp': '2021-09-01T09:25:20.779293492Z',\n",
       "   'bids': [{'price': '1.18140', 'liquidity': '1000000'},\n",
       "    {'price': '1.18139', 'liquidity': '2000000'},\n",
       "    {'price': '1.18138', 'liquidity': '2000000'},\n",
       "    {'price': '1.18136', 'liquidity': '5000000'}],\n",
       "   'asks': [{'price': '1.18148', 'liquidity': '1000000'},\n",
       "    {'price': '1.18150', 'liquidity': '2000000'},\n",
       "    {'price': '1.18151', 'liquidity': '2000000'},\n",
       "    {'price': '1.18152', 'liquidity': '5000000'}]},\n",
       "  'homeConversionFactors': {'gainQuoteHome': {'factor': '1.34024510'},\n",
       "   'lossQuoteHome': {'factor': '1.35371490'},\n",
       "   'gainBaseHome': {'factor': '1.58338330'},\n",
       "   'lossBaseHome': {'factor': '1.59929670'}}},\n",
       " 'relatedTransactionIDs': ['2244', '2245'],\n",
       " 'lastTransactionID': '2245'}"
      ]
     },
     "metadata": {},
     "execution_count": 177
    }
   ],
   "metadata": {}
  },
  {
   "cell_type": "code",
   "execution_count": 28,
   "source": [
    "pending_order_data = {\n",
    "  \"order\": {\n",
    "    \"price\": \"1.5000\",\n",
    "    \"stopLossOnFill\": {\n",
    "      \"timeInForce\": \"GTC\",\n",
    "      \"price\": \"1.7000\"\n",
    "    },\n",
    "    \"takeProfitOnFill\": {\n",
    "      \"price\": \"1.14530\"\n",
    "    },\n",
    "    \"timeInForce\": \"GTC\",\n",
    "    \"instrument\": \"USD_CAD\",\n",
    "    \"units\": \"-1000\",\n",
    "    \"type\": \"LIMIT\",\n",
    "    \"positionFill\": \"DEFAULT\"\n",
    "  }\n",
    "}"
   ],
   "outputs": [],
   "metadata": {}
  },
  {
   "cell_type": "code",
   "execution_count": 29,
   "source": [
    "pending_response = session.post(post_url,headers=defs.SECURE_HEADER,data=json.dumps(pending_order_data))\n",
    "status_code = post_response.status_code\n",
    "order_list.append(pending_response.json()['orderCreateTransaction']['id'])\n",
    "order_list"
   ],
   "outputs": [
    {
     "output_type": "execute_result",
     "data": {
      "text/plain": [
       "['166', '167']"
      ]
     },
     "metadata": {},
     "execution_count": 29
    }
   ],
   "metadata": {}
  },
  {
   "cell_type": "code",
   "execution_count": 134,
   "source": [
    "status_code"
   ],
   "outputs": [
    {
     "output_type": "execute_result",
     "data": {
      "text/plain": [
       "201"
      ]
     },
     "metadata": {},
     "execution_count": 134
    }
   ],
   "metadata": {}
  },
  {
   "cell_type": "code",
   "execution_count": 135,
   "source": [
    "pending_response.json()"
   ],
   "outputs": [
    {
     "output_type": "execute_result",
     "data": {
      "text/plain": [
       "{'orderCreateTransaction': {'id': '4139',\n",
       "  'accountID': '101-003-20224752-001',\n",
       "  'userID': 20224752,\n",
       "  'batchID': '4139',\n",
       "  'requestID': '78895624310767032',\n",
       "  'time': '2021-08-30T08:51:01.950936854Z',\n",
       "  'type': 'LIMIT_ORDER',\n",
       "  'instrument': 'USD_CAD',\n",
       "  'units': '-1000',\n",
       "  'price': '1.50000',\n",
       "  'timeInForce': 'GTC',\n",
       "  'triggerCondition': 'DEFAULT',\n",
       "  'partialFill': 'DEFAULT',\n",
       "  'positionFill': 'DEFAULT',\n",
       "  'takeProfitOnFill': {'price': '1.14530', 'timeInForce': 'GTC'},\n",
       "  'stopLossOnFill': {'price': '1.70000',\n",
       "   'timeInForce': 'GTC',\n",
       "   'triggerMode': 'TOP_OF_BOOK'},\n",
       "  'reason': 'CLIENT_ORDER'},\n",
       " 'relatedTransactionIDs': ['4139'],\n",
       " 'lastTransactionID': '4139'}"
      ]
     },
     "metadata": {},
     "execution_count": 135
    }
   ],
   "metadata": {}
  },
  {
   "cell_type": "code",
   "execution_count": 256,
   "source": [
    "get_url = f\"{defs.OANDA_URL}/accounts/{defs.ACCOUNT_ID}/orders/{2257}\"\n",
    "response = session.get(get_url,headers=defs.SECURE_HEADER)"
   ],
   "outputs": [],
   "metadata": {}
  },
  {
   "cell_type": "code",
   "execution_count": 257,
   "source": [
    "response.status_code"
   ],
   "outputs": [
    {
     "output_type": "execute_result",
     "data": {
      "text/plain": [
       "200"
      ]
     },
     "metadata": {},
     "execution_count": 257
    }
   ],
   "metadata": {}
  },
  {
   "cell_type": "code",
   "execution_count": 258,
   "source": [
    "response.json()"
   ],
   "outputs": [
    {
     "output_type": "execute_result",
     "data": {
      "text/plain": [
       "{'order': {'id': '2257',\n",
       "  'createTime': '2021-09-02T06:02:15.471564073Z',\n",
       "  'type': 'TAKE_PROFIT',\n",
       "  'tradeID': '2256',\n",
       "  'price': '0.93034',\n",
       "  'timeInForce': 'GTC',\n",
       "  'triggerCondition': 'DEFAULT',\n",
       "  'state': 'FILLED',\n",
       "  'fillingTransactionID': '2258',\n",
       "  'filledTime': '2021-09-02T07:01:11.857344308Z',\n",
       "  'tradeClosedIDs': ['2256']},\n",
       " 'lastTransactionID': '2258'}"
      ]
     },
     "metadata": {},
     "execution_count": 258
    }
   ],
   "metadata": {}
  },
  {
   "cell_type": "code",
   "execution_count": 275,
   "source": [
    "transaction_url = f\"{defs.OANDA_URL}/accounts/{defs.ACCOUNT_ID}/transactions/{2668}\"\n",
    "transaction_response = session.get(transaction_url,headers=defs.SECURE_HEADER)"
   ],
   "outputs": [],
   "metadata": {}
  },
  {
   "cell_type": "code",
   "execution_count": 276,
   "source": [
    "transaction_response.json()"
   ],
   "outputs": [
    {
     "output_type": "execute_result",
     "data": {
      "text/plain": [
       "{'transaction': {'id': '2668',\n",
       "  'accountID': '101-003-20224752-002',\n",
       "  'userID': 20224752,\n",
       "  'batchID': '2668',\n",
       "  'time': '2021-09-03T12:40:20.721072261Z',\n",
       "  'type': 'ORDER_FILL',\n",
       "  'orderID': '2662',\n",
       "  'instrument': 'AUD_CAD',\n",
       "  'units': '10000',\n",
       "  'requestedUnits': '10000',\n",
       "  'price': '0.93205',\n",
       "  'pl': '0.0000',\n",
       "  'quotePL': '0',\n",
       "  'financing': '0.0000',\n",
       "  'baseFinancing': '0',\n",
       "  'commission': '0.0000',\n",
       "  'accountBalance': '98746.7792',\n",
       "  'gainQuoteHomeConversionFactor': '1.06648080',\n",
       "  'lossQuoteHomeConversionFactor': '1.07719920',\n",
       "  'guaranteedExecutionFee': '0.0000',\n",
       "  'quoteGuaranteedExecutionFee': '0',\n",
       "  'halfSpreadCost': '1.0182',\n",
       "  'fullVWAP': '0.93205',\n",
       "  'reason': 'LIMIT_ORDER',\n",
       "  'tradeOpened': {'price': '0.93205',\n",
       "   'tradeID': '2668',\n",
       "   'units': '10000',\n",
       "   'guaranteedExecutionFee': '0.0000',\n",
       "   'quoteGuaranteedExecutionFee': '0',\n",
       "   'halfSpreadCost': '1.0182',\n",
       "   'initialMarginRequired': '499.4900',\n",
       "   'guaranteedExecutionFeeHomeConversionCost': '0.00000000'},\n",
       "  'fullPrice': {'closeoutBid': '0.93185',\n",
       "   'closeoutAsk': '0.93206',\n",
       "   'timestamp': '2021-09-03T12:40:20.721072261Z',\n",
       "   'bids': [{'price': '0.93186', 'liquidity': '3000000'},\n",
       "    {'price': '0.93185', 'liquidity': '7000000'}],\n",
       "   'asks': [{'price': '0.93205', 'liquidity': '3000000'},\n",
       "    {'price': '0.93206', 'liquidity': '7000000'}]},\n",
       "  'homeConversionFactors': {'gainQuoteHome': {'factor': '1.06648080'},\n",
       "   'lossQuoteHome': {'factor': '1.07719920'},\n",
       "   'gainBaseHome': {'factor': '0.99398510'},\n",
       "   'lossBaseHome': {'factor': '1.00397490'}},\n",
       "  'plHomeConversionCost': '0.00000000',\n",
       "  'baseFinancingHomeConversionCost': '0.00000000',\n",
       "  'guaranteedExecutionFeeHomeConversionCost': '0.00000000',\n",
       "  'homeConversionCost': '0.00000000'},\n",
       " 'lastTransactionID': '2671'}"
      ]
     },
     "metadata": {},
     "execution_count": 276
    }
   ],
   "metadata": {}
  },
  {
   "cell_type": "code",
   "execution_count": 284,
   "source": [
    "pending_orders_url = f\"{defs.OANDA_URL}/accounts/{defs.ACCOUNT_ID}/pendingOrders\"\n",
    "pending_trade_response = session.get(pending_orders_url, headers=defs.SECURE_HEADER)\n",
    "pending_order_list = pending_trade_response.json()[\"orders\"]"
   ],
   "outputs": [],
   "metadata": {}
  },
  {
   "cell_type": "code",
   "execution_count": 285,
   "source": [
    "pending_order_list"
   ],
   "outputs": [
    {
     "output_type": "execute_result",
     "data": {
      "text/plain": [
       "[{'id': '2743',\n",
       "  'createTime': '2021-09-03T20:50:20.132293595Z',\n",
       "  'type': 'TAKE_PROFIT',\n",
       "  'tradeID': '2742',\n",
       "  'price': '0.93327',\n",
       "  'timeInForce': 'GTC',\n",
       "  'triggerCondition': 'DEFAULT',\n",
       "  'state': 'PENDING'},\n",
       " {'id': '2733',\n",
       "  'createTime': '2021-09-03T17:18:09.021012527Z',\n",
       "  'type': 'TAKE_PROFIT',\n",
       "  'tradeID': '2732',\n",
       "  'price': '0.93297',\n",
       "  'timeInForce': 'GTC',\n",
       "  'triggerCondition': 'DEFAULT',\n",
       "  'state': 'PENDING'},\n",
       " {'id': '2731',\n",
       "  'createTime': '2021-09-03T17:08:19.851876505Z',\n",
       "  'type': 'TAKE_PROFIT',\n",
       "  'tradeID': '2730',\n",
       "  'price': '0.93267',\n",
       "  'timeInForce': 'GTC',\n",
       "  'triggerCondition': 'DEFAULT',\n",
       "  'state': 'PENDING'},\n",
       " {'id': '2729',\n",
       "  'createTime': '2021-09-03T16:36:01.452517492Z',\n",
       "  'type': 'LIMIT',\n",
       "  'instrument': 'AUD_CAD',\n",
       "  'units': '10000',\n",
       "  'timeInForce': 'GTC',\n",
       "  'takeProfitOnFill': {'price': '0.93267', 'timeInForce': 'GTC'},\n",
       "  'price': '0.93237',\n",
       "  'triggerCondition': 'DEFAULT',\n",
       "  'partialFill': 'DEFAULT_FILL',\n",
       "  'positionFill': 'DEFAULT',\n",
       "  'state': 'PENDING'},\n",
       " {'id': '2727',\n",
       "  'createTime': '2021-09-03T16:16:45.426274985Z',\n",
       "  'type': 'LIMIT',\n",
       "  'instrument': 'AUD_CAD',\n",
       "  'units': '10000',\n",
       "  'timeInForce': 'GTC',\n",
       "  'takeProfitOnFill': {'price': '0.93237', 'timeInForce': 'GTC'},\n",
       "  'price': '0.93207',\n",
       "  'triggerCondition': 'DEFAULT',\n",
       "  'partialFill': 'DEFAULT_FILL',\n",
       "  'positionFill': 'DEFAULT',\n",
       "  'state': 'PENDING'},\n",
       " {'id': '2725',\n",
       "  'createTime': '2021-09-03T15:46:05.418842224Z',\n",
       "  'type': 'LIMIT',\n",
       "  'instrument': 'AUD_CAD',\n",
       "  'units': '10000',\n",
       "  'timeInForce': 'GTC',\n",
       "  'takeProfitOnFill': {'price': '0.93207', 'timeInForce': 'GTC'},\n",
       "  'price': '0.93177',\n",
       "  'triggerCondition': 'DEFAULT',\n",
       "  'partialFill': 'DEFAULT_FILL',\n",
       "  'positionFill': 'DEFAULT',\n",
       "  'state': 'PENDING'},\n",
       " {'id': '2723',\n",
       "  'createTime': '2021-09-03T15:32:45.719162273Z',\n",
       "  'type': 'LIMIT',\n",
       "  'instrument': 'AUD_CAD',\n",
       "  'units': '10000',\n",
       "  'timeInForce': 'GTC',\n",
       "  'takeProfitOnFill': {'price': '0.93177', 'timeInForce': 'GTC'},\n",
       "  'price': '0.93147',\n",
       "  'triggerCondition': 'DEFAULT',\n",
       "  'partialFill': 'DEFAULT_FILL',\n",
       "  'positionFill': 'DEFAULT',\n",
       "  'state': 'PENDING'},\n",
       " {'id': '2721',\n",
       "  'createTime': '2021-09-03T14:57:09.735494701Z',\n",
       "  'type': 'LIMIT',\n",
       "  'instrument': 'AUD_CAD',\n",
       "  'units': '10000',\n",
       "  'timeInForce': 'GTC',\n",
       "  'takeProfitOnFill': {'price': '0.93147', 'timeInForce': 'GTC'},\n",
       "  'price': '0.93117',\n",
       "  'triggerCondition': 'DEFAULT',\n",
       "  'partialFill': 'DEFAULT_FILL',\n",
       "  'positionFill': 'DEFAULT',\n",
       "  'state': 'PENDING'},\n",
       " {'id': '2660',\n",
       "  'createTime': '2021-09-03T12:38:10.851473611Z',\n",
       "  'type': 'LIMIT',\n",
       "  'instrument': 'AUD_CAD',\n",
       "  'units': '-10000',\n",
       "  'timeInForce': 'GTC',\n",
       "  'takeProfitOnFill': {'price': '0.93357', 'timeInForce': 'GTC'},\n",
       "  'price': '0.93387',\n",
       "  'triggerCondition': 'DEFAULT',\n",
       "  'partialFill': 'DEFAULT_FILL',\n",
       "  'positionFill': 'DEFAULT',\n",
       "  'state': 'PENDING'}]"
      ]
     },
     "metadata": {},
     "execution_count": 285
    }
   ],
   "metadata": {}
  },
  {
   "cell_type": "code",
   "execution_count": 180,
   "source": [
    "get_url = f\"{defs.OANDA_URL}/accounts/{defs.ACCOUNT_ID}/trades/2245\"\n",
    "response = session.get(get_url,headers=defs.SECURE_HEADER)\n"
   ],
   "outputs": [],
   "metadata": {}
  },
  {
   "cell_type": "code",
   "execution_count": 181,
   "source": [
    "response.json()"
   ],
   "outputs": [
    {
     "output_type": "execute_result",
     "data": {
      "text/plain": [
       "{'trade': {'id': '2245',\n",
       "  'instrument': 'EUR_USD',\n",
       "  'price': '1.18148',\n",
       "  'openTime': '2021-09-01T09:25:25.165226469Z',\n",
       "  'initialUnits': '1000',\n",
       "  'initialMarginRequired': '79.5670',\n",
       "  'state': 'OPEN',\n",
       "  'currentUnits': '1000',\n",
       "  'realizedPL': '0.0000',\n",
       "  'financing': '0.0000',\n",
       "  'dividendAdjustment': '0.0000',\n",
       "  'unrealizedPL': '-0.0135',\n",
       "  'marginUsed': '79.5680'},\n",
       " 'lastTransactionID': '2245'}"
      ]
     },
     "metadata": {},
     "execution_count": 181
    }
   ],
   "metadata": {}
  }
 ],
 "metadata": {
  "orig_nbformat": 4,
  "language_info": {
   "name": "python",
   "version": "3.7.6",
   "mimetype": "text/x-python",
   "codemirror_mode": {
    "name": "ipython",
    "version": 3
   },
   "pygments_lexer": "ipython3",
   "nbconvert_exporter": "python",
   "file_extension": ".py"
  },
  "kernelspec": {
   "name": "python3",
   "display_name": "Python 3.7.6 64-bit ('env': venv)"
  },
  "interpreter": {
   "hash": "31e1eb38aeb873fb13790865798b95b9a02504af654c5cd971595b334d20a2c6"
  }
 },
 "nbformat": 4,
 "nbformat_minor": 2
}